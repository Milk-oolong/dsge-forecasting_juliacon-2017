{
 "cells": [
  {
   "cell_type": "markdown",
   "metadata": {
    "slideshow": {
     "slide_type": "slide"
    }
   },
   "source": [
    "# Using Parallel Computing for Macroeconomic Forecasting at the Federal Reserve Bank of New York\n",
    "\n",
    "**Pearl Li** (@pearlzli) <br>\n",
    "**Federal Reserve Bank of New York** (@FRBNY-DSGE)\n",
    "\n",
    "June 21, 2017"
   ]
  },
  {
   "cell_type": "markdown",
   "metadata": {
    "slideshow": {
     "slide_type": "slide"
    }
   },
   "source": [
    "## Disclaimer\n",
    "\n",
    "This talk reflects the experience of the author and does not represent an endorsement by the Federal Reserve Bank of New York or the Federal Reserve System of any particular product or service. The views expressed in this talk are those of the author and do not necessarily reflect the position of the Federal Reserve Bank of New York or the Federal Reserve System. Any errors or omissions are the responsibility of the author."
   ]
  },
  {
   "cell_type": "markdown",
   "metadata": {
    "slideshow": {
     "slide_type": "slide"
    }
   },
   "source": [
    "## Outline\n",
    "\n",
    "1. Overview of DSGE modeling\n",
    "2. \"The forecast step\": objectives and challenges\n",
    "3. Parallelizing the forecast code: <br>\n",
    "   a. DistributedArrays.jl <br>\n",
    "   b. `pmap` and blocking\n",
    "4. Conclusion and next steps"
   ]
  },
  {
   "cell_type": "markdown",
   "metadata": {
    "slideshow": {
     "slide_type": "slide"
    }
   },
   "source": [
    "## Overview of DSGE modeling"
   ]
  },
  {
   "cell_type": "markdown",
   "metadata": {
    "slideshow": {
     "slide_type": "slide"
    }
   },
   "source": [
    "A DSGE (dynamic stochastic general equilibrium) model is a \"micro-founded macro-model\", used in both policy and academia for\n",
    "\n",
    "- Forecasting macroeconomic variables\n",
    "- Understanding the forces underlying past economic outcomes\n",
    "- Analyzing the effect of monetary policy"
   ]
  },
  {
   "cell_type": "markdown",
   "metadata": {
    "slideshow": {
     "slide_type": "slide"
    }
   },
   "source": [
    "We can represent a DSGE model as a system of two dynamic equations:\n",
    "\n",
    "- A **transition equation** $$s_t = T(\\theta) s_{t-1} + R(\\theta) \\epsilon_t + C(\\theta)$$ expressing how the states $s_t$ evolve over time as a function of past states $s_{t-1}$ and current-period shocks $\\epsilon_t$ <br><br>\n",
    "\n",
    "- A **measurement equation** $$y_t = Z(\\theta) s_t + D(\\theta)$$ mapping states $s_t$ to observables (data) $y_t$\n",
    "\n",
    "State-space matrices are a function of time-invariant parameters $\\theta$."
   ]
  },
  {
   "cell_type": "markdown",
   "metadata": {
    "slideshow": {
     "slide_type": "slide"
    }
   },
   "source": [
    "| Notation     | Name        | Examples                                   |\n",
    "| ----------------------------------------------------------------------- |\n",
    "| $s_t$        | States      | Output growth, inflation                   |\n",
    "| $y_t$        | Observables | Real GDP growth, core PCE inflation        |\n",
    "| $\\epsilon_t$ | Shocks      | Productivity shock, aggregate demand shock |\n",
    "| $\\theta$     | Parameters  | Household discount rate, inflation target  |"
   ]
  },
  {
   "cell_type": "markdown",
   "metadata": {
    "slideshow": {
     "slide_type": "slide"
    }
   },
   "source": [
    "[DSGE.jl](https://github.com/FRBNY-DSGE/DSGE.jl) is a package developed by the New York Fed's DSGE team for estimating and forecasting DSGE models in Julia.\n",
    "\n",
    "(See Erica Moszkowski's [talk](https://www.youtube.com/watch?v=Vd2LJI3JLU0) at JuliaCon 2016.)"
   ]
  },
  {
   "cell_type": "markdown",
   "metadata": {
    "slideshow": {
     "slide_type": "slide"
    }
   },
   "source": [
    "DSGE.jl centers around a **model object**\n",
    "\n",
    "- Each model is a concrete subtype of `AbstractModel`\n",
    "- Model object stores information about parameters, states, computational settings, and more\n",
    "- Model-agnostic methods are defined for `AbstractModel`s: e.g. `optimize`\n",
    "- Then use **method dispatch** to call model-specific functions:\n",
    "  + e.g. `optimize` calls `measurement` to get measurement matrices $Z$ and $D$ for a particular model"
   ]
  },
  {
   "cell_type": "markdown",
   "metadata": {
    "slideshow": {
     "slide_type": "slide"
    }
   },
   "source": [
    "A (stripped-down) concrete subtype of `AbstractModel`"
   ]
  },
  {
   "cell_type": "code",
   "execution_count": null,
   "metadata": {
    "collapsed": true,
    "slideshow": {
     "slide_type": "-"
    }
   },
   "outputs": [],
   "source": [
    "type Model990{T} <: AbstractModel{T}\n",
    "    # Time-invariant parameters\n",
    "    parameters::ParameterVector{T}\n",
    "\n",
    "    # Dictionaries mapping state/shock/etc. names to indices\n",
    "    # e.g. endogenous_states[:π_t] = 2 means that π_t is the second state in s_t\n",
    "    endogenous_states::OrderedDict{Symbol,Int}\n",
    "    exogenous_shocks::OrderedDict{Symbol,Int}\n",
    "    observables::OrderedDict{Symbol,Int}\n",
    "    equilibrium_conditions::OrderedDict{Symbol,Int}\n",
    "\n",
    "    # Model specification and subspecification\n",
    "    spec::String\n",
    "    subspec::String\n",
    "\n",
    "    # Computational settings\n",
    "    settings::Dict{Symbol,Setting}\n",
    "end"
   ]
  },
  {
   "cell_type": "markdown",
   "metadata": {
    "slideshow": {
     "slide_type": "slide"
    }
   },
   "source": [
    "We are interested in\n",
    "\n",
    "- **Estimation step:** sample from the posterior distribution $\\mathbb{P}(\\theta\\ |\\ y_{1:T})$ of the parameters $\\theta$\n",
    "  + Data $\\to$ distribution of parameters\n",
    "  + Already done!\n",
    "- **Forecast step:** use the estimated parameter draws to forecast, compute impulse responses and shock decompositions, and more\n",
    "  + Distribution of parameters $\\to$ distribution of future states (and more)\n",
    "  + Focus of this talk"
   ]
  },
  {
   "cell_type": "markdown",
   "metadata": {
    "slideshow": {
     "slide_type": "slide"
    }
   },
   "source": [
    "## \"The forecast step\": objectives and challenges"
   ]
  },
  {
   "cell_type": "markdown",
   "metadata": {
    "slideshow": {
     "slide_type": "slide"
    }
   },
   "source": [
    "In the estimation step, we generated a large number of parameter draws from their posterior distribution. For each draw $\\theta^{(j)}$, we might want to compute the following *products*:\n",
    "\n",
    "- **Smoothed history:** Estimate historical states $s_{t|T}$ (where $T$ is the last data period and $t < T$)\n",
    "- **Forecast:** Iterate the state space forward to get future states $s_{T+h|T}$\n",
    "- **Shock decomposition:** Decompose $s_{t|T}$ into a weighted sum of accumulated shocks $\\epsilon^{(i)}_{1:t|T}$ (where $i$ indexes the particular shock, e.g. productivity)\n",
    "- **Impulse response:** Compute $\\frac{\\partial s_{1:H}}{\\partial \\epsilon^{(i)}_1}$, the response of states to a shock $\\epsilon^{(i)}$ at time 1"
   ]
  },
  {
   "cell_type": "markdown",
   "metadata": {
    "slideshow": {
     "slide_type": "slide"
    }
   },
   "source": [
    "Figure 1: Forecast of real GDP growth <br>\n",
    "TODO: add fan chart"
   ]
  },
  {
   "cell_type": "markdown",
   "metadata": {
    "slideshow": {
     "slide_type": "slide"
    }
   },
   "source": [
    "Figure 2: Shock decomposition of real GDP growth\n",
    "\n",
    "<img src=\"shockdec.jpg\" width=750px>"
   ]
  },
  {
   "cell_type": "markdown",
   "metadata": {
    "slideshow": {
     "slide_type": "slide"
    }
   },
   "source": [
    "Want to minimize\n",
    "\n",
    "1. Computational time\n",
    "   + \"Whole shebang\" (three conditional types, all products) took ~70 minutes using our MATLAB code\n",
    "<br>\n",
    "2. Memory usage\n",
    "   + (e.g. for computing smoothed historical states) 229 quarters $\\times$ 84 states $\\times$ 20,000 draws"
   ]
  },
  {
   "cell_type": "markdown",
   "metadata": {
    "slideshow": {
     "slide_type": "slide"
    }
   },
   "source": [
    "Naive implementation: for loop"
   ]
  },
  {
   "cell_type": "code",
   "execution_count": null,
   "metadata": {
    "collapsed": false,
    "slideshow": {
     "slide_type": "-"
    }
   },
   "outputs": [],
   "source": [
    "for θ_j in parameter_draws\n",
    "    # Compute state space matrices under θ_j\n",
    "    update!(model, θ_j)\n",
    "    system = compute_system(model)\n",
    "        \n",
    "    # Estimate historical states\n",
    "    kal = filter(model, data, system)\n",
    "    histstates, histshocks, histpseudo, s_T = \n",
    "        smooth(model, data, system, kal)\n",
    "        \n",
    "    # Forecast future states\n",
    "    forecaststates, forecastobs, forecastpseudo, forecastshocks = \n",
    "        forecast(model, system, s_T)\n",
    "\n",
    "    ...\n",
    "        \n",
    "    # Write forecast outputs\n",
    "    write_forecast_outputs(...)\n",
    "end"
   ]
  },
  {
   "cell_type": "markdown",
   "metadata": {
    "slideshow": {
     "slide_type": "slide"
    }
   },
   "source": [
    "## Parallelizing the forecast code"
   ]
  },
  {
   "cell_type": "markdown",
   "metadata": {
    "slideshow": {
     "slide_type": "slide"
    }
   },
   "source": [
    "Preview of results: benchmark times against MATLAB (smaller is better)\n",
    "\n",
    "| Test                                         | MATLAB (2014a) | Julia (0.4.5) |\n",
    "| -------------------------------------------- | -------------- | ------------- |\n",
    "| Smoothing                                    | 1.00           | 0.38          |\n",
    "| Forecasting                                  | 1.00           | 0.24          |\n",
    "| All forecast outputs (modal parameters)      | 1.00           | 0.10          |\n",
    "| **All forecast outputs (full distribution)** | 1.00*          | **0.22**      |\n",
    "\n",
    "*Run in MATLAB 2009a"
   ]
  },
  {
   "cell_type": "markdown",
   "metadata": {
    "slideshow": {
     "slide_type": "slide"
    }
   },
   "source": [
    "Two approaches considered\n",
    "\n",
    "1. Distributed storage, i.e. using [DistributedArrays.jl](https://github.com/JuliaParallel/DistributedArrays.jl)\n",
    "2. `pmap` and \"blocking\""
   ]
  },
  {
   "cell_type": "markdown",
   "metadata": {
    "slideshow": {
     "slide_type": "slide"
    }
   },
   "source": [
    "DistributedArrays.jl\n",
    "\n",
    "- Solution for storing arrays too large for one machine\n",
    "- `DArray` storage distributed across multiple processes\n",
    "- Each process operates on the part of the array it owns $\\implies$ natural parallelization"
   ]
  },
  {
   "cell_type": "code",
   "execution_count": 3,
   "metadata": {
    "collapsed": false,
    "slideshow": {
     "slide_type": "slide"
    }
   },
   "outputs": [],
   "source": [
    "# Add processes and load package on all processes\n",
    "worker_procs = addprocs(5)\n",
    "@everywhere using DistributedArrays\n",
    "\n",
    "# Initialize DArray, distributing along the second dimension across all \n",
    "# 5 processes\n",
    "arr_size = (2, 25, 2)\n",
    "arr_div  = [1, 5, 1]\n",
    "arr = drand(arr_size, worker_procs, arr_div)\n",
    "nothing"
   ]
  },
  {
   "cell_type": "code",
   "execution_count": 4,
   "metadata": {
    "collapsed": false,
    "slideshow": {
     "slide_type": "slide"
    }
   },
   "outputs": [
    {
     "data": {
      "text/plain": [
       "(1:2,1:5,1:2)"
      ]
     },
     "execution_count": 4,
     "metadata": {},
     "output_type": "execute_result"
    }
   ],
   "source": [
    "# Query a worker process for its local indices into arr\n",
    "worker_id = worker_procs[1]\n",
    "remotecall_fetch(localindexes, worker_id, arr)"
   ]
  },
  {
   "cell_type": "code",
   "execution_count": 5,
   "metadata": {
    "collapsed": false,
    "slideshow": {
     "slide_type": "-"
    }
   },
   "outputs": [
    {
     "data": {
      "text/plain": [
       "2×5×2 Array{Float64,3}:\n",
       "[:, :, 1] =\n",
       " 0.57127  0.39564    0.209463  0.440857  0.56174\n",
       " 0.75199  0.0457825  0.842128  0.793163  0.88565\n",
       "\n",
       "[:, :, 2] =\n",
       " 0.598975  0.318283  0.404738   0.0311527  0.116038\n",
       " 0.146935  0.57351   0.0344157  0.212597   0.429647"
      ]
     },
     "execution_count": 5,
     "metadata": {},
     "output_type": "execute_result"
    }
   ],
   "source": [
    "# Return worker's local array\n",
    "remotecall_fetch(localpart, worker_id, arr)"
   ]
  },
  {
   "cell_type": "code",
   "execution_count": 6,
   "metadata": {
    "collapsed": false,
    "slideshow": {
     "slide_type": "-"
    }
   },
   "outputs": [
    {
     "data": {
      "text/plain": [
       ":ok"
      ]
     },
     "execution_count": 6,
     "metadata": {},
     "output_type": "execute_result"
    }
   ],
   "source": [
    "# Remove worker processes\n",
    "rmprocs(worker_procs)"
   ]
  },
  {
   "cell_type": "markdown",
   "metadata": {
    "slideshow": {
     "slide_type": "slide"
    }
   },
   "source": [
    "Using `DArray`s in the forecast step\n",
    "\n",
    "- Distribute parameter draws among worker processes\n",
    "- Each process will compute all outputs for the draws it owns\n",
    "- Use both:\n",
    "  + Lower-level functions (e.g. `smooth`) which operate on one draw\n",
    "  + Higher-level functions (`smooth_all`) which, given many draws, call lower-level function on each"
   ]
  },
  {
   "cell_type": "markdown",
   "metadata": {
    "slideshow": {
     "slide_type": "slide"
    }
   },
   "source": [
    "`DArray` implementation: all functions have `DArray` input arguments and return `DArray`s"
   ]
  },
  {
   "cell_type": "code",
   "execution_count": null,
   "metadata": {
    "collapsed": true,
    "slideshow": {
     "slide_type": "-"
    }
   },
   "outputs": [],
   "source": [
    "worker_procs = addprocs(50)\n",
    "\n",
    "# Load draws and compute systems for each draw θ_j\n",
    "parameter_draws = load_draws(model, worker_procs)\n",
    "systems = prepare_systems(model, parameter_draws)\n",
    "\n",
    "# Estimate historical states\n",
    "kals = filter_all(model, data, systems)\n",
    "histstates, histshocks, histpseudo, s_Ts =\n",
    "    smooth_all(model, data, systems, kals; procs = worker_procs)\n",
    "\n",
    "# Forecast future states\n",
    "forecaststates, forecastshocks, forecastobs, forecastpseudo =\n",
    "    forecast_all(model, systems, s_Ts, procs = worker_procs)\n",
    "\n",
    "...\n",
    "\n",
    "# Write forecast outputs\n",
    "write_forecast_outputs(...)\n",
    "\n",
    "rmprocs(worker_procs)"
   ]
  },
  {
   "cell_type": "markdown",
   "metadata": {
    "slideshow": {
     "slide_type": "slide"
    }
   },
   "source": [
    "Disadvantage #1: draw assignment \n",
    "\n",
    "- Must explicitly assign draws to processes\n",
    "- `DArray`s must be divided equally among processes\n",
    "- What if number of draws isn't divisible by number of processes? Have to throw out remainder"
   ]
  },
  {
   "cell_type": "markdown",
   "metadata": {
    "slideshow": {
     "slide_type": "slide"
    }
   },
   "source": [
    "Disadvantage #2: unwieldy `DArray` construction\n",
    "\n",
    "```\n",
    "DArray(init, dims[, procs, dist])\n",
    "```\n",
    "\n",
    "- `init` function maps a tuple of local indices to the local part of the array\n",
    "- Can only initialize one `DArray` for each call to the `init` function\n",
    "- But what we want for `smooth_all` is to return four `DArray`s: `histstates`, `histshocks`, `histpseudo`, and `s_Ts`\n",
    "- Result: ugly code..."
   ]
  },
  {
   "cell_type": "code",
   "execution_count": null,
   "metadata": {
    "collapsed": true,
    "slideshow": {
     "slide_type": "slide"
    }
   },
   "outputs": [],
   "source": [
    "# Initialize one big DArray with all outputs\n",
    "out = DArray((ndraws, nstates + nshocks + npseudo + 1, nperiods), \n",
    "             procs, [nprocs, 1, 1]) do I\n",
    "    \n",
    "    # Initialize local part of array\n",
    "    localpart = zeros(map(length, I)...)\n",
    "    \n",
    "    # Determine which draws i belong to this process\n",
    "    draw_inds = first(I)\n",
    "    ndraws_local = length(draw_inds)\n",
    "\n",
    "    for i in draw_inds\n",
    "        # Call smooth on draw i \n",
    "        states, shocks, pseudo, s_T = smooth(model, data, systems[i], kals[i])\n",
    "\n",
    "        # Compute index of draw i into local array\n",
    "        i_local = mod(i-1, ndraws_local) + 1\n",
    "\n",
    "        # Assign smooth outputs to local array\n",
    "        localpart[i_local, states_range,  :] = states\n",
    "        localpart[i_local, shocks_range,  :] = shocks\n",
    "        localpart[i_local, pseudo_range,  :] = pseudo\n",
    "        localpart[i_local, statesT_range, states_range] = s_T\n",
    "    end\n",
    "        \n",
    "    return localpart    \n",
    "end"
   ]
  },
  {
   "cell_type": "code",
   "execution_count": null,
   "metadata": {
    "collapsed": true,
    "slideshow": {
     "slide_type": "slide"
    }
   },
   "outputs": [],
   "source": [
    "# Convert SubArrays to DArrays\n",
    "states = convert(DArray, out[1:ndraws, states_range, 1:nperiods])\n",
    "shocks = convert(DArray, out[1:ndraws, shocks_range, 1:nperiods])\n",
    "pseudo = convert(DArray, out[1:ndraws, pseudo_range, 1:nperiods])\n",
    "s_Ts = DArray((ndraws,), procs, [nprocs]) do I\n",
    "    Vector{S}[convert(Array, slice(out, i, statesT_range, states_range)) for i in first(I)]\n",
    "end"
   ]
  },
  {
   "cell_type": "markdown",
   "metadata": {
    "slideshow": {
     "slide_type": "slide"
    }
   },
   "source": [
    "Figure 3: `smooth_all` result before indexing out `SubArray`s\n",
    "\n",
    "<img src=\"darray.gif\">"
   ]
  },
  {
   "cell_type": "markdown",
   "metadata": {
    "slideshow": {
     "slide_type": "slide"
    }
   },
   "source": [
    "Disadvantage #3: computational time\n",
    "\n",
    "- Parameter draws live on the processes they've been assigned to; difficult to reallocate\n",
    "- Sometimes some compute nodes are busier than others\n",
    "- Bottleneck effect: since `smooth_all` must return before `forecast_all` can begin, proceeding is limited by compute time of **slowest process**"
   ]
  },
  {
   "cell_type": "markdown",
   "metadata": {
    "slideshow": {
     "slide_type": "slide"
    }
   },
   "source": [
    "`pmap` + blocking\n",
    "\n",
    "- Divide parameter draws into \"blocks\" (typically 20,000 draws into 20 blocks)\n",
    "- Read in one block at a time\n",
    "- For each block, parallel map `forecast_one_draw` (computes all forecast outputs for a single draw) over that draw's parameters\n",
    "- When `pmap` returns, write current block's results to disk"
   ]
  },
  {
   "cell_type": "markdown",
   "metadata": {
    "slideshow": {
     "slide_type": "slide"
    }
   },
   "source": [
    "`pmap` and blocking implementation"
   ]
  },
  {
   "cell_type": "code",
   "execution_count": null,
   "metadata": {
    "collapsed": true,
    "slideshow": {
     "slide_type": "-"
    }
   },
   "outputs": [],
   "source": [
    "# Get indices of draws corresponding to each block\n",
    "block_indices = forecast_block_inds(model)\n",
    "nblocks = length(block_indices)\n",
    "\n",
    "for block = 1:nblocks\n",
    "    # Load draws for this block\n",
    "    parameter_draws = load_draws(model, block)\n",
    "\n",
    "    # Compute forecast outputs for each draw in block\n",
    "    forecast_outputs = pmap(θ_j -> forecast_one_draw(m, θ_j, data),\n",
    "                            parameter_draws)\n",
    "\n",
    "    # Write results for this block\n",
    "    write_forecast_outputs(model, forecast_outputs, \n",
    "                           block_number = block)\n",
    "end"
   ]
  },
  {
   "cell_type": "code",
   "execution_count": null,
   "metadata": {
    "collapsed": true,
    "slideshow": {
     "slide_type": "slide"
    }
   },
   "outputs": [],
   "source": [
    "function forecast_one_draw(model::AbstractModel, θ_j::Vector{Float64},\n",
    "                           data::Matrix{Float64})\n",
    "    # Compute state space matrices under θ_j\n",
    "    update!(model, θ_j)\n",
    "    system = compute_system(model)\n",
    "    \n",
    "    # Estimate historical states\n",
    "    kal = filter(model, data, system)\n",
    "    histstates, histshocks, histpseudo, s_T = \n",
    "        smooth(model, data, system, kal)\n",
    "\n",
    "    # Forecast future states\n",
    "    forecaststates, forecastshocks, forecastobs, forecastpseudo =\n",
    "        forecast(model, system, s_T)\n",
    "\n",
    "    ...\n",
    "    \n",
    "    # Assign results to dictionary to be returned\n",
    "    forecast_outputs = Dict{Symbol, Array{Float64}}()\n",
    "    ...\n",
    "    return forecast_outputs\n",
    "end"
   ]
  },
  {
   "cell_type": "markdown",
   "metadata": {
    "slideshow": {
     "slide_type": "slide"
    }
   },
   "source": [
    "Advantages\n",
    "\n",
    "- `pmap` handles assigning draws to worker processes automatically (`DArray`s disadvantage #1)\n",
    "- Don't need to implement functions like `smooth_all` which handle multiple draws (disadvantage #2)\n",
    "- Takes advantage of independence of draws (disadvantage #3)\n",
    "- Computing in blocks reduces memory usage when `pmap` returns results to originator process"
   ]
  },
  {
   "cell_type": "markdown",
   "metadata": {
    "slideshow": {
     "slide_type": "slide"
    }
   },
   "source": [
    "Take advantage of [writing to a subset](https://github.com/JuliaIO/HDF5.jl/blob/master/doc/hdf5.md#reading-and-writing-data) of an HDF5 dataset:"
   ]
  },
  {
   "cell_type": "code",
   "execution_count": null,
   "metadata": {
    "collapsed": false,
    "slideshow": {
     "slide_type": "-"
    }
   },
   "outputs": [],
   "source": [
    "function write_forecast_block(file::JldFile, arr::Array{Float64}, \n",
    "                              block_indices::Range{Int})\n",
    "\n",
    "    # Access JLD file's underlying HDF5 file\n",
    "    pfile = file.plain\n",
    "    \n",
    "    # Get reference to existing HDF5 dataset named \"arr\"\n",
    "    dataset = HDF5.d_open(pfile, \"arr\")\n",
    "    \n",
    "    # Write to subset of dataset corresponding to given block indices\n",
    "    ndims = length(size(dataset))\n",
    "    dataset[block_indices, fill(Colon(), ndims-1)...] = arr\n",
    "end"
   ]
  },
  {
   "cell_type": "markdown",
   "metadata": {
    "slideshow": {
     "slide_type": "slide"
    }
   },
   "source": [
    "Result: more natural, readable, efficient, and **beautiful** code"
   ]
  },
  {
   "cell_type": "markdown",
   "metadata": {
    "slideshow": {
     "slide_type": "slide"
    }
   },
   "source": [
    "## Conclusion and next steps"
   ]
  },
  {
   "cell_type": "markdown",
   "metadata": {
    "slideshow": {
     "slide_type": "slide"
    }
   },
   "source": [
    "Long-term goals\n",
    "\n",
    "- Make DSGE.jl less us-specific\n",
    "- Move to Julia 0.6 and 1.0\n",
    "- Be responsible contributors to the Julia package ecosystem"
   ]
  },
  {
   "cell_type": "markdown",
   "metadata": {
    "slideshow": {
     "slide_type": "slide"
    }
   },
   "source": [
    "Ongoing work\n",
    "\n",
    "- Forecasting under alternative monetary policy rules\n",
    "- Forecast evaluation and decomposing changes in forecasts\n",
    "- Estimating nonlinear models using the [tempered particle filter](https://web.sas.upenn.edu/schorf/files/2016/10/HS-TemperedParticleFilter-PaperAppendix-1mlvlvu.pdf) (Herbst & Schorfheide 2017)"
   ]
  },
  {
   "cell_type": "markdown",
   "metadata": {
    "slideshow": {
     "slide_type": "slide"
    }
   },
   "source": [
    "Acknowledgments\n",
    "\n",
    "- New York Fed DSGE team:\n",
    "  + Marco Del Negro, Marc Giannoni, Abhi Gupta, Erica Moszkowski, Sara Shahanaghi, Micah Smith\n",
    "\n",
    "- QuantEcon collaborators:\n",
    "  + Zac Cranko, Spencer Lyon, John Stachurski, Pablo Winant"
   ]
  },
  {
   "cell_type": "markdown",
   "metadata": {
    "slideshow": {
     "slide_type": "slide"
    }
   },
   "source": [
    "## Thank you! Questions?"
   ]
  }
 ],
 "metadata": {
  "anaconda-cloud": {},
  "celltoolbar": "Slideshow",
  "kernelspec": {
   "display_name": "Julia 0.5.0",
   "language": "julia",
   "name": "julia-0.5"
  },
  "language_info": {
   "file_extension": ".jl",
   "mimetype": "application/julia",
   "name": "julia",
   "version": "0.5.0"
  }
 },
 "nbformat": 4,
 "nbformat_minor": 2
}
