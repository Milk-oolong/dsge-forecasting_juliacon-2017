{
 "cells": [
  {
   "cell_type": "markdown",
   "metadata": {
    "slideshow": {
     "slide_type": "slide"
    }
   },
   "source": [
    "# Using Parallel Computing for Macroeconomic Forecasting at the Federal Reserve Bank of New York\n",
    "\n",
    "**Pearl Li** (@pearlzli) <br>\n",
    "**Federal Reserve Bank of New York** (@FRBNY-DSGE)\n",
    "\n",
    "June 21, 2017"
   ]
  },
  {
   "cell_type": "markdown",
   "metadata": {
    "slideshow": {
     "slide_type": "slide"
    }
   },
   "source": [
    "## Disclaimer\n",
    "\n",
    "This talk reflects the experience of the author and does not represent an endorsement by the Federal Reserve Bank of New York or the Federal Reserve System of any particular product or service. The views expressed in this talk are those of the authors and do not necessarily reflect the position of the Federal Reserve Bank of New York or the Federal Reserve System. Any errors or omissions are the responsibility of the authors."
   ]
  },
  {
   "cell_type": "markdown",
   "metadata": {
    "slideshow": {
     "slide_type": "slide"
    }
   },
   "source": [
    "## Outline\n",
    "\n",
    "1. Overview of DSGE modeling\n",
    "2. \"The forecast step\": objectives and challenges\n",
    "3. Parallelizing the forecast code: <br>\n",
    "   a. DistributedArrays.jl <br>\n",
    "   b. `pmap` and blocking\n",
    "4. Conclusion and next steps"
   ]
  },
  {
   "cell_type": "markdown",
   "metadata": {
    "slideshow": {
     "slide_type": "slide"
    }
   },
   "source": [
    "## Overview of DSGE modeling"
   ]
  },
  {
   "cell_type": "markdown",
   "metadata": {
    "slideshow": {
     "slide_type": "slide"
    }
   },
   "source": [
    "A DSGE (dynamic stochastic general equilibrium) model is a \"micro-founded macro-model\", used in both policy and academia for:\n",
    "\n",
    "- Forecasting macroeconomic variables (GDP growth, inflation, interest rate, ...)\n",
    "- Understanding the forces underlying past economic outcomes\n",
    "- Analyzing the effect of monetary policy\n",
    "- Investigating counterfactuals or alternative scenarios"
   ]
  },
  {
   "cell_type": "markdown",
   "metadata": {
    "slideshow": {
     "slide_type": "slide"
    }
   },
   "source": [
    "Let\n",
    "\n",
    "- $\\theta$ be a vector of parameters (discount rate, capital share, ...)\n",
    "- $s_t$ be a vector of latent states (output growth, natural rate of interest, ...), including expectations of future states and lags\n",
    "- $\\epsilon_t$ be a vector of exogenous shocks (productivity shock, ...)\n",
    "- $\\eta_t$ be a vector of expectational errors"
   ]
  },
  {
   "cell_type": "markdown",
   "metadata": {
    "slideshow": {
     "slide_type": "slide"
    }
   },
   "source": [
    "We express the evolution of the system over time in terms of **equilibrium conditions** (derived from micro theory)\n",
    "\n",
    "$$\\Gamma_0(\\theta) s_t = \\Gamma_1(\\theta) s_{t-1} + \\Psi(\\theta) \\epsilon_t + \\Pi(\\theta) \\eta_t + C(\\theta)$$\n",
    "$$\\epsilon_t \\sim N(0, Q(\\theta))$$\n",
    "\n",
    "which are solved to give the **transition equation**\n",
    "\n",
    "$$s_t = T(\\theta) s_{t-1} + R(\\theta) \\epsilon_t + C(\\theta)$$"
   ]
  },
  {
   "cell_type": "markdown",
   "metadata": {
    "slideshow": {
     "slide_type": "slide"
    }
   },
   "source": [
    "Let $y_t$ be a vector of observed variables (real GDP growth, core PCE inflation, ...). We map latent states $s_t$ to observables $y_t$ using the **measurement equation**\n",
    "\n",
    "$$y_t = Z(\\theta) s_t + D(\\theta)$$"
   ]
  },
  {
   "cell_type": "markdown",
   "metadata": {
    "slideshow": {
     "slide_type": "slide"
    }
   },
   "source": [
    "We are interested in\n",
    "\n",
    "- Sampling from the posterior distribution $\\mathbb{P}(\\theta | y_{1:T})$ of the parameters $\\theta$ (**estimation step**)\n",
    "- Using the estimated parameter draws to forecast, compute impulse responses and shock decompositions, and more (**forecast step**)"
   ]
  }
 ],
 "metadata": {
  "anaconda-cloud": {},
  "celltoolbar": "Slideshow",
  "kernelspec": {
   "display_name": "Julia 0.5.0",
   "language": "julia",
   "name": "julia-0.5"
  },
  "language_info": {
   "file_extension": ".jl",
   "mimetype": "application/julia",
   "name": "julia",
   "version": "0.5.0"
  }
 },
 "nbformat": 4,
 "nbformat_minor": 2
}
